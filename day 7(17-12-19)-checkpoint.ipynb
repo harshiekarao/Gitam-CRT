{
 "cells": [
  {
   "cell_type": "markdown",
   "metadata": {},
   "source": [
    "# Day 7(17-12-19)\n",
    "\n",
    "# Collections in python:\n",
    "\n",
    "# List\n",
    "# Tuple\n",
    "# Set\n",
    "# Dictionary\n",
    "\n",
    "\n",
    "# 1.List:\n",
    "# it is one of the datastructures\n",
    "# the items inside the list are separated by commas and enclosed in []\n",
    "# ex:[12,67,90,100]\n",
    "# list zero index based\n",
    "# it is variable length\n",
    "# linear datastructure, consists of mixed\n",
    "# type of elements\n"
   ]
  }
 ],
 "metadata": {
  "kernelspec": {
   "display_name": "Python 3",
   "language": "python",
   "name": "python3"
  },
  "language_info": {
   "codemirror_mode": {
    "name": "ipython",
    "version": 3
   },
   "file_extension": ".py",
   "mimetype": "text/x-python",
   "name": "python",
   "nbconvert_exporter": "python",
   "pygments_lexer": "ipython3",
   "version": "3.7.3"
  }
 },
 "nbformat": 4,
 "nbformat_minor": 2
}
